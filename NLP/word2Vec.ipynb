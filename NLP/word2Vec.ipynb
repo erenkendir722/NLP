{
 "cells": [
  {
   "cell_type": "code",
   "execution_count": 32,
   "id": "d3b293db-9a34-489e-887a-2187f00e6b86",
   "metadata": {},
   "outputs": [],
   "source": [
    "import nltk\n",
    "import matplotlib.pyplot as plt\n",
    "import numpy as np\n",
    "from gensim.models import Word2Vec\n",
    "from sklearn.manifold import TSNE"
   ]
  },
  {
   "cell_type": "code",
   "execution_count": 34,
   "id": "3914b396-f33e-4397-9943-57d8851a409b",
   "metadata": {},
   "outputs": [
    {
     "name": "stdout",
     "output_type": "stream",
     "text": [
      "['iran devlet televizyonu ülkedeki eyaletin sinde yapılan reformcuları protesto amaçlı yürüyüşlere milyonlarca kişinin katıldığını bildirdi ', 'gösterilerde fitnecilere ölüm münafıklara ölüm abd ye ölüm ingiltere ye ölüm sloganları atıldı ', 'dini lider ali hamaney ve cumhurbaşkanı mahmud ahmedinejad ı destekleyen iranlılar son olaylarda yeğeni öldürülen mir hüseyin musevi başta olmak üzere muhalefet liderlerini kınadılar ', 'musevi ye ölüm ve idam idam sloganları duyuldu ', 'muhalefet liderleri kaçtı mı aşure günü yaşanan çatışmalarda devlet kaynaklarına göre u terörist olmak üzere kişi ölmüştü ', 'den fazla kişinin yaralandığı olaylar sırasında en az kişi tutuklanmıştı ', 'öte yandan iran haber ajansı irna muhalif liderler mir hüseyin musevi ve mehdi kerrubi nin başkentten kaçarak ülkenin kuzeyine geçtiğini ileri sürdü ancak muhalefet iddiayı yalanladı ', 'hamaney in bir dönem korumalığını yapan ve şu anda fransa da saklandığı söylenen bir kişinin muhalefete verdiği bilgilere göre münzevi yaşamı na rağmen dini liderin havyara karşı korkunç bir iştahı var ', 'baston ve at meraklısı hamaney aynı zamanda değerli mücevherlerle bezenmiş bastonların ve cins atların koleksiyonunu yapıyor ', 'hamaney in antika bastonlarının sayısı ']\n",
      "[['iran', 'devlet', 'televizyonu', 'ülkedeki', 'eyaletin', 'sinde', 'yapılan', 'reformcuları', 'protesto', 'amaçlı', 'yürüyüşlere', 'milyonlarca', 'kişinin', 'katıldığını', 'bildirdi'], ['gösterilerde', 'fitnecilere', 'ölüm', 'münafıklara', 'ölüm', 'abd', 'ye', 'ölüm', 'ingiltere', 'ye', 'ölüm', 'sloganları', 'atıldı'], ['dini', 'lider', 'ali', 'hamaney', 've', 'cumhurbaşkanı', 'mahmud', 'ahmedinejad', 'ı', 'destekleyen', 'iranlılar', 'son', 'olaylarda', 'yeğeni', 'öldürülen', 'mir', 'hüseyin', 'musevi', 'başta', 'olmak', 'üzere', 'muhalefet', 'liderlerini', 'kınadılar'], ['musevi', 'ye', 'ölüm', 've', 'idam', 'idam', 'sloganları', 'duyuldu'], ['muhalefet', 'liderleri', 'kaçtı', 'mı', 'aşure', 'günü', 'yaşanan', 'çatışmalarda', 'devlet', 'kaynaklarına', 'göre', 'u', 'terörist', 'olmak', 'üzere', 'kişi', 'ölmüştü'], ['den', 'fazla', 'kişinin', 'yaralandığı', 'olaylar', 'sırasında', 'en', 'az', 'kişi', 'tutuklanmıştı'], ['öte', 'yandan', 'iran', 'haber', 'ajansı', 'irna', 'muhalif', 'liderler', 'mir', 'hüseyin', 'musevi', 've', 'mehdi', 'kerrubi', 'nin', 'başkentten', 'kaçarak', 'ülkenin', 'kuzeyine', 'geçtiğini', 'ileri', 'sürdü', 'ancak', 'muhalefet', 'iddiayı', 'yalanladı'], ['hamaney', 'in', 'bir', 'dönem', 'korumalığını', 'yapan', 've', 'şu', 'anda', 'fransa', 'da', 'saklandığı', 'söylenen', 'bir', 'kişinin', 'muhalefete', 'verdiği', 'bilgilere', 'göre', 'münzevi', 'yaşamı', 'na', 'rağmen', 'dini', 'liderin', 'havyara', 'karşı', 'korkunç', 'bir', 'iştahı', 'var'], ['baston', 've', 'at', 'meraklısı', 'hamaney', 'aynı', 'zamanda', 'değerli', 'mücevherlerle', 'bezenmiş', 'bastonların', 've', 'cins', 'atların', 'koleksiyonunu', 'yapıyor'], ['hamaney', 'in', 'antika', 'bastonlarının', 'sayısı']]\n"
     ]
    }
   ],
   "source": [
    "f = open(\"hurriyet.txt\", \"r\", encoding=\"utf-8\")\n",
    "txt = f.read()\n",
    "\n",
    "t_list = txt.split(\"\\n\")\n",
    "print(t_list[:10])\n",
    "\n",
    "corpus = []\n",
    "for cumle in t_list:\n",
    "  corpus.append(cumle.split())\n",
    "\n",
    "print(corpus[:10])"
   ]
  },
  {
   "cell_type": "code",
   "execution_count": 64,
   "id": "35bc9174-6657-4044-baf8-a6bbe1943c95",
   "metadata": {},
   "outputs": [
    {
     "data": {
      "text/plain": [
       "[('ahmedinejad', 0.781780481338501),\n",
       " ('tahran', 0.7778668403625488),\n",
       " ('programından', 0.7525987029075623),\n",
       " ('ahmedinecad', 0.75020432472229),\n",
       " ('muttaki', 0.7487972378730774),\n",
       " ('takası', 0.7441357374191284),\n",
       " ('suriye', 0.7426746487617493),\n",
       " ('körfez', 0.7226430773735046),\n",
       " ('durdurmayı', 0.7223484516143799),\n",
       " ('yaptırımlarla', 0.7156196236610413)]"
      ]
     },
     "execution_count": 64,
     "metadata": {},
     "output_type": "execute_result"
    }
   ],
   "source": [
    "model = Word2Vec(corpus, vector_size=100, window=5, min_count=1, sg=1, workers=4)#model eğitimi, workers 4 çekirdek olarak sistemi hızlandırmak için ekledim\n",
    "model.wv.most_similar(\"iran\")"
   ]
  },
  {
   "cell_type": "code",
   "execution_count": 65,
   "id": "f32679a5-6834-4c00-8225-5f7ef55e72b8",
   "metadata": {},
   "outputs": [
    {
     "data": {
      "text/plain": [
       "[('pazartesi', 0.9284341931343079),\n",
       " ('çarşamba', 0.9259939789772034),\n",
       " ('salı', 0.9099474549293518),\n",
       " ('cumartesi', 0.9095953702926636),\n",
       " ('sabahı', 0.8912569284439087),\n",
       " ('akşamı', 0.887576162815094),\n",
       " ('günü', 0.8733324408531189),\n",
       " ('cuma', 0.8677852153778076),\n",
       " ('gecesi', 0.8558089733123779),\n",
       " ('pazar', 0.8450654745101929)]"
      ]
     },
     "execution_count": 65,
     "metadata": {},
     "output_type": "execute_result"
    }
   ],
   "source": [
    "model.wv.most_similar(\"perşembe\")"
   ]
  },
  {
   "cell_type": "code",
   "execution_count": 68,
   "id": "79ec08b4-e6b8-4820-9388-8f63a40cd4d6",
   "metadata": {},
   "outputs": [],
   "source": [
    "def closestwords_tsneplot(model, kelime): #modeli görüntülemek için fonksiyon tanımlama\n",
    "    word_vectors= np.empty((0,100))\n",
    "    word_labels= [kelime]\n",
    "\n",
    "    close_words = model.wv.most_similar(kelime)\n",
    "    \n",
    "    word_vectors = np.append(word_vectors, np.array([model.wv[kelime]]), axis=0)\n",
    "    \n",
    "    for w, _ in close_words:\n",
    "        word_labels.append(w)\n",
    "        word_vectors = np.append(word_vectors, np.array([model.wv[w]]), axis=0)\n",
    "        \n",
    "    perplexity_value = min(5, len(word_labels) - 1)\n",
    "    tsne = TSNE(perplexity=perplexity_value, random_state=0)\n",
    "    Y = tsne.fit_transform(word_vectors)\n",
    "    \n",
    "    x_coords = Y[:, 0]\n",
    "    y_coords = Y[:, 1]\n",
    "    \n",
    "    plt.scatter(x_coords, y_coords)\n",
    "    \n",
    "    for label, x, y in zip(word_labels, x_coords, y_coords):\n",
    "        plt.annotate(label, xy=(x, y), xytext=(5, -2), textcoords='offset points')\n",
    "        \n",
    "    plt.show()"
   ]
  },
  {
   "cell_type": "code",
   "execution_count": 62,
   "id": "0f79613a-2a43-4f42-92b4-83d3c4afa446",
   "metadata": {},
   "outputs": [
    {
     "data": {
      "image/png": "[encoded data removed]",
      "text/plain": [
       "<Figure size 640x480 with 1 Axes>"
      ]
     },
     "metadata": {},
     "output_type": "display_data"
    }
   ],
   "source": [
    "closestwords_tsneplot(model, \"perşembe\")"
   ]
  }
 ],
 "metadata": {
  "kernelspec": {
   "display_name": "Python 3 (ipykernel)",
   "language": "python",
   "name": "python3"
  },
  "language_info": {
   "codemirror_mode": {
    "name": "ipython",
    "version": 3
   },
   "file_extension": ".py",
   "mimetype": "text/x-python",
   "name": "python",
   "nbconvert_exporter": "python",
   "pygments_lexer": "ipython3",
   "version": "3.12.7"
  }
 },
 "nbformat": 4,
 "nbformat_minor": 5
}
