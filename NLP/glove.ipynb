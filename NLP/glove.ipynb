{
 "cells": [
  {
   "cell_type": "code",
   "execution_count": 24,
   "id": "38652e03-c012-41f9-939b-8219cc90b82f",
   "metadata": {},
   "outputs": [],
   "source": [
    "from gensim.scripts.glove2word2vec import glove2word2vec\n",
    "from gensim.models import KeyedVectors"
   ]
  },
  {
   "cell_type": "code",
   "execution_count": 25,
   "id": "efa31c04-1462-4871-8c7e-4f5ca58e01de",
   "metadata": {},
   "outputs": [
    {
     "name": "stderr",
     "output_type": "stream",
     "text": [
      "C:\\Users\\ErenKendir\\AppData\\Local\\Temp\\ipykernel_9852\\1129229417.py:4: DeprecationWarning: Call to deprecated `glove2word2vec` (KeyedVectors.load_word2vec_format(.., binary=False, no_header=True) loads GLoVE text vectors.).\n",
      "  glove2word2vec(glove_input, word2vec_output)\n"
     ]
    },
    {
     "data": {
      "text/plain": [
       "(400000, 100)"
      ]
     },
     "execution_count": 25,
     "metadata": {},
     "output_type": "execute_result"
    }
   ],
   "source": [
    "glove_input= 'glove.6B.100d.txt' #glove dosyası için giriş pathi\n",
    "word2vec_output = 'glove.6B.100d.word2vec'\n",
    "\n",
    "glove2word2vec(glove_input, word2vec_output)"
   ]
  },
  {
   "cell_type": "code",
   "execution_count": 26,
   "id": "070ab66c-6584-4ed8-98af-acba67682394",
   "metadata": {},
   "outputs": [],
   "source": [
    "model = KeyedVectors.load_word2vec_format(word2vec_output, binary=False) #modeli oluştura"
   ]
  },
  {
   "cell_type": "code",
   "execution_count": 27,
   "id": "ef16f67f-d195-45da-8c20-4a1242554e77",
   "metadata": {},
   "outputs": [
    {
     "data": {
      "text/plain": [
       "array([ 0.40378  ,  0.019734 , -0.15499  , -0.26948  ,  0.33938  ,\n",
       "        0.46476  , -0.53141  ,  0.094519 ,  0.45399  ,  1.3385   ,\n",
       "        0.18271  , -0.3465   ,  0.28323  ,  0.70829  , -0.75002  ,\n",
       "        0.016359 , -0.64514  , -0.54882  , -0.75309  , -0.21617  ,\n",
       "        0.13678  , -0.25198  , -0.037552 ,  0.35938  , -0.33532  ,\n",
       "       -0.78733  ,  0.10907  , -0.13902  ,  0.53454  ,  0.58805  ,\n",
       "       -1.1348   , -0.14574  ,  0.20244  ,  0.81909  , -0.27482  ,\n",
       "        0.14045  ,  0.68814  ,  0.70236  , -0.34211  , -0.62128  ,\n",
       "       -0.10601  , -0.62413  ,  0.30536  , -0.44325  ,  0.64016  ,\n",
       "        0.0020673,  0.88252  ,  0.050356 , -0.35739  ,  0.54686  ,\n",
       "        0.11974  , -0.12593  ,  0.74211  ,  0.65482  , -1.4018   ,\n",
       "       -1.1218   , -0.21188  ,  0.35338  ,  0.53459  ,  0.20205  ,\n",
       "       -0.86132  ,  0.82773  , -0.10065  , -0.19766  , -0.85631  ,\n",
       "        0.27891  , -1.3381   ,  0.19368  , -0.70602  ,  0.067972 ,\n",
       "       -0.80953  , -0.65974  ,  0.50856  , -0.020009 , -0.7665   ,\n",
       "       -0.21865  ,  0.11584  , -0.23323  , -0.73037  ,  0.25433  ,\n",
       "        0.51655  , -0.031959 , -0.34603  ,  0.016619 ,  0.36089  ,\n",
       "       -0.25636  , -0.86198  , -0.16575  , -0.084256 ,  0.21918  ,\n",
       "        0.7003   ,  0.14982  , -0.083508 , -0.16968  , -0.5801   ,\n",
       "        0.96829  ,  0.40106  ,  0.16945  ,  0.74681  ,  0.26952  ],\n",
       "      dtype=float32)"
      ]
     },
     "execution_count": 27,
     "metadata": {},
     "output_type": "execute_result"
    }
   ],
   "source": [
    "model[\"istanbul\"] #istanbul kelimesinin vectör görünümü"
   ]
  },
  {
   "cell_type": "code",
   "execution_count": 52,
   "id": "5287b74d-a9fa-459c-8af0-b069faa14578",
   "metadata": {},
   "outputs": [
    {
     "data": {
      "text/plain": [
       "array([ 0.69796  ,  0.026999 ,  0.068505 ,  0.065858 ,  0.40963  ,\n",
       "       -0.38146  , -0.56633  , -0.045967 , -0.019801 ,  0.40051  ,\n",
       "        0.45928  , -0.44242  , -0.25291  ,  0.56519  , -0.42689  ,\n",
       "        0.66001  ,  0.74877  , -0.61531  , -0.93373  , -0.70314  ,\n",
       "        0.25014  ,  0.47758  , -0.27972  ,  0.10961  , -0.18595  ,\n",
       "       -1.1541   ,  0.014234 , -0.15504  ,  1.2269   , -0.083134 ,\n",
       "       -0.96295  ,  0.26263  , -0.10777  ,  0.2001   , -0.60195  ,\n",
       "        0.60761  ,  1.1275   , -0.032634 , -0.69365  ,  0.071476 ,\n",
       "        0.14524  , -0.56237  , -0.1676   ,  0.71003  ,  0.39329  ,\n",
       "       -0.60368  ,  0.63867  , -0.19897  ,  0.35546  ,  0.50909  ,\n",
       "        0.32231  , -0.58378  ,  0.061194 ,  0.58127  , -1.3054   ,\n",
       "       -2.2658   , -0.0047571,  0.27903  ,  0.12816  ,  0.09481  ,\n",
       "        0.15086  ,  1.0745   , -0.83654  ,  0.10862  ,  0.15205  ,\n",
       "        0.17329  , -0.52959  ,  0.72439  , -0.40303  ,  0.11472  ,\n",
       "       -0.32336  , -0.83121  , -0.12508  ,  0.053349 , -0.17481  ,\n",
       "       -0.031144 ,  0.76887  , -0.42122  , -0.34157  ,  0.11762  ,\n",
       "        0.33802  ,  0.19437  , -0.32066  ,  0.40762  , -1.009    ,\n",
       "        0.047386 , -0.43626  ,  0.051032 ,  0.069644 ,  0.099814 ,\n",
       "        0.28354  , -0.65775  ,  0.75207  ,  1.018    , -0.18832  ,\n",
       "        0.32236  ,  0.97124  ,  0.50001  ,  0.44992  , -0.012456 ],\n",
       "      dtype=float32)"
      ]
     },
     "execution_count": 52,
     "metadata": {},
     "output_type": "execute_result"
    }
   ],
   "source": [
    "model[\"berlin\"]"
   ]
  },
  {
   "cell_type": "code",
   "execution_count": 34,
   "id": "ad631108-d655-4e2d-bd23-9dc03dbf5e1a",
   "metadata": {},
   "outputs": [
    {
     "data": {
      "text/plain": [
       "[('kangaroos', 0.612468957901001),\n",
       " ('squirrel', 0.5469585657119751),\n",
       " ('rat', 0.5455618500709534),\n",
       " ('mule', 0.5324220061302185),\n",
       " ('elephant', 0.5309096574783325),\n",
       " ('snake', 0.5248682498931885),\n",
       " ('monkey', 0.521859884262085),\n",
       " ('parrot', 0.5193796753883362),\n",
       " ('sheep', 0.5146180391311646),\n",
       " ('shark', 0.5082205533981323)]"
      ]
     },
     "execution_count": 34,
     "metadata": {},
     "output_type": "execute_result"
    }
   ],
   "source": [
    "model.most_similar(\"kangaroo\")"
   ]
  },
  {
   "cell_type": "code",
   "execution_count": 48,
   "id": "32c9baaf-00c3-4973-b885-bfdbbc9dbc9a",
   "metadata": {},
   "outputs": [
    {
     "data": {
      "text/plain": [
       "[('salmon', 0.6036656498908997)]"
      ]
     },
     "execution_count": 48,
     "metadata": {},
     "output_type": "execute_result"
    }
   ],
   "source": [
    "model.most_similar(positive=['woman', 'son'], negative=['man'], topn=1)\n",
    "model.most_similar(positive=['fish', 'son'], negative=['man'], topn=1)"
   ]
  },
  {
   "cell_type": "code",
   "execution_count": 50,
   "id": "63572c9e-e2a9-440b-94c8-c914d73ca72d",
   "metadata": {},
   "outputs": [
    {
     "data": {
      "text/plain": [
       "[('japan', 0.8432862162590027)]"
      ]
     },
     "execution_count": 50,
     "metadata": {},
     "output_type": "execute_result"
    }
   ],
   "source": [
    "model.most_similar(positive=['child', 'son'], negative=['woman'], topn=1)\n",
    "model.most_similar(positive=['tokyo', 'germany'], negative=['berlin'], topn=1)"
   ]
  }
 ],
 "metadata": {
  "kernelspec": {
   "display_name": "Python 3 (ipykernel)",
   "language": "python",
   "name": "python3"
  },
  "language_info": {
   "codemirror_mode": {
    "name": "ipython",
    "version": 3
   },
   "file_extension": ".py",
   "mimetype": "text/x-python",
   "name": "python",
   "nbconvert_exporter": "python",
   "pygments_lexer": "ipython3",
   "version": "3.12.7"
  }
 },
 "nbformat": 4,
 "nbformat_minor": 5
}
