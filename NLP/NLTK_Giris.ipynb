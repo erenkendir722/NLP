{
  "nbformat": 4,
  "nbformat_minor": 0,
  "metadata": {
    "colab": {
      "provenance": []
    },
    "kernelspec": {
      "name": "python3",
      "display_name": "Python 3"
    },
    "language_info": {
      "name": "python"
    }
  },
  "cells": [
    {
      "cell_type": "code",
      "execution_count": 7,
      "metadata": {
        "colab": {
          "base_uri": "https://localhost:8080/"
        },
        "id": "B0KkU7FNoPgZ",
        "outputId": "e7cd3923-1104-427b-f980-1142ed00560c"
      },
      "outputs": [
        {
          "output_type": "stream",
          "name": "stdout",
          "text": [
            "Requirement already satisfied: nltk in /usr/local/lib/python3.11/dist-packages (3.9.1)\n",
            "Requirement already satisfied: click in /usr/local/lib/python3.11/dist-packages (from nltk) (8.1.8)\n",
            "Requirement already satisfied: joblib in /usr/local/lib/python3.11/dist-packages (from nltk) (1.4.2)\n",
            "Requirement already satisfied: regex>=2021.8.3 in /usr/local/lib/python3.11/dist-packages (from nltk) (2024.11.6)\n",
            "Requirement already satisfied: tqdm in /usr/local/lib/python3.11/dist-packages (from nltk) (4.67.1)\n"
          ]
        }
      ],
      "source": [
        "!pip install nltk"
      ]
    },
    {
      "cell_type": "code",
      "source": [
        "##TOKENS - WORD TOKENIZE\n",
        "from nltk.tokenize import sent_tokenize, word_tokenize\n",
        "import nltk\n",
        "nltk.download('punkt_tab')\n",
        "\n",
        "text = \"Alan Turing Ingiliz matematikci, bilgisayar bilimcisi ve kriptolog.\"\n",
        "\n",
        "word_tokenize(text)"
      ],
      "metadata": {
        "colab": {
          "base_uri": "https://localhost:8080/"
        },
        "id": "tq7gBMN4tMAh",
        "outputId": "6bf62855-82c2-488b-cc4e-7034b9b5a9a2"
      },
      "execution_count": 13,
      "outputs": [
        {
          "output_type": "stream",
          "name": "stderr",
          "text": [
            "[nltk_data] Downloading package punkt_tab to /root/nltk_data...\n",
            "[nltk_data]   Unzipping tokenizers/punkt_tab.zip.\n"
          ]
        },
        {
          "output_type": "execute_result",
          "data": {
            "text/plain": [
              "['Alan',\n",
              " 'Turing',\n",
              " 'Ingiliz',\n",
              " 'matematikci',\n",
              " ',',\n",
              " 'bilgisayar',\n",
              " 'bilimcisi',\n",
              " 've',\n",
              " 'kriptolog',\n",
              " '.']"
            ]
          },
          "metadata": {},
          "execution_count": 13
        }
      ]
    },
    {
      "cell_type": "code",
      "source": [
        "#SENT TOKENIZE (TEKRAR ESKİ HALİNE GERİ GETİRİR)\n",
        "sent_tokenize(text)"
      ],
      "metadata": {
        "colab": {
          "base_uri": "https://localhost:8080/"
        },
        "id": "5_5VzcrcvhsW",
        "outputId": "ad12a11d-8bf1-4b8a-e2ea-f51a561e542f"
      },
      "execution_count": 14,
      "outputs": [
        {
          "output_type": "execute_result",
          "data": {
            "text/plain": [
              "['Alan Turing Ingiliz matematikci, bilgisayar bilimcisi ve kriptolog.']"
            ]
          },
          "metadata": {},
          "execution_count": 14
        }
      ]
    },
    {
      "cell_type": "code",
      "source": [
        "for token in word_tokenize(text):\n",
        "  print(token)"
      ],
      "metadata": {
        "colab": {
          "base_uri": "https://localhost:8080/"
        },
        "id": "5_-sEJJOw9hU",
        "outputId": "1620d562-5976-4399-ea7b-28b31f0b906c"
      },
      "execution_count": 15,
      "outputs": [
        {
          "output_type": "stream",
          "name": "stdout",
          "text": [
            "Alan\n",
            "Turing\n",
            "Ingiliz\n",
            "matematikci\n",
            ",\n",
            "bilgisayar\n",
            "bilimcisi\n",
            "ve\n",
            "kriptolog\n",
            ".\n"
          ]
        }
      ]
    },
    {
      "cell_type": "code",
      "source": [
        "##STOP WORDS\n",
        "from nltk.tokenize import word_tokenize\n",
        "from nltk.corpus import stopwords\n",
        "import nltk\n",
        "nltk.download('stopwords')\n",
        "\n",
        "text = \"Fazıl Say is a Turkish pianist and composer who was born in Ankara, Türkiye.\"\n",
        "stop_words = stopwords.words(\"english\")\n",
        "\n",
        "words = word_tokenize(text)\n",
        "\n",
        "filteredWords = []\n",
        "\n",
        "for word in words:\n",
        "  if word not in stop_words:\n",
        "    filteredWords.append(word)\n",
        "\n",
        "print(filteredWords)\n",
        "for word in filteredWords:\n",
        "  print(word)"
      ],
      "metadata": {
        "colab": {
          "base_uri": "https://localhost:8080/"
        },
        "id": "MmWQNKFSyiU1",
        "outputId": "a677b31c-fe0e-44b9-c5dc-62625de8915a"
      },
      "execution_count": 4,
      "outputs": [
        {
          "output_type": "stream",
          "name": "stdout",
          "text": [
            "['Fazıl', 'Say', 'Turkish', 'pianist', 'composer', 'born', 'Ankara', ',', 'Türkiye', '.']\n",
            "Fazıl\n",
            "Say\n",
            "Turkish\n",
            "pianist\n",
            "composer\n",
            "born\n",
            "Ankara\n",
            ",\n",
            "Türkiye\n",
            ".\n"
          ]
        },
        {
          "output_type": "stream",
          "name": "stderr",
          "text": [
            "[nltk_data] Downloading package stopwords to /root/nltk_data...\n",
            "[nltk_data]   Package stopwords is already up-to-date!\n"
          ]
        }
      ]
    },
    {
      "cell_type": "code",
      "source": [
        "##STEMMİNG - KELİME KÖKÜ BULMA\n",
        "\n",
        "from nltk.stem import PorterStemmer\n",
        "\n",
        "ps = PorterStemmer()\n",
        "\n",
        "\n",
        "words = [\"driver\", \"drive\", \"driving\", \"drove\", \"cats\", \"children\"]\n",
        "\n",
        "for word in words:\n",
        "  print(ps.stem(word))"
      ],
      "metadata": {
        "colab": {
          "base_uri": "https://localhost:8080/"
        },
        "id": "quaws06t0pGy",
        "outputId": "1cfd21b3-6011-4c35-f151-9e9582a3d75c"
      },
      "execution_count": 3,
      "outputs": [
        {
          "output_type": "stream",
          "name": "stdout",
          "text": [
            "driver\n",
            "drive\n",
            "drive\n",
            "drove\n",
            "cat\n",
            "children\n"
          ]
        }
      ]
    },
    {
      "cell_type": "code",
      "source": [
        "##PART OF SPEECH\n",
        "import nltk\n",
        "nltk.download('averaged_perceptron_tagger_eng')\n",
        "text = 'Friedrich Wilhelm Nietzsche was a German philosopher, cultural critic, composer, poet, philologist, and a Latin and Greek scholar whose work has exerted a profound influence on Western philosophy and modern intellectual history. He began his career as a classical philologist before turning to philosophy. He became the youngest ever to hold the Chair of Classical Philology at the University of Basel in 1869 at the age of 24. Nietzsche resigned in 1879 due to health problems that plagued him most of his life; he completed much of his core writing in the following decade. In 1889 at age 44, he suffered a collapse and afterward, a complete loss of his mental faculties. He lived his remaining years in the care of his mother until her death in 1897 and then with his sister Elisabeth Förster-Nietzsche. Nietzsche died in 1900.'\n",
        "tokenized= nltk.word_tokenize(text)\n",
        "nltk.pos_tag(tokenized)\n",
        "\n"
      ],
      "metadata": {
        "colab": {
          "base_uri": "https://localhost:8080/"
        },
        "id": "s2UxryGL2Hjy",
        "outputId": "9569e088-c068-49f8-e3f3-792ab4c61898"
      },
      "execution_count": 6,
      "outputs": [
        {
          "output_type": "stream",
          "name": "stderr",
          "text": [
            "[nltk_data] Downloading package averaged_perceptron_tagger_eng to\n",
            "[nltk_data]     /root/nltk_data...\n",
            "[nltk_data]   Unzipping taggers/averaged_perceptron_tagger_eng.zip.\n"
          ]
        },
        {
          "output_type": "execute_result",
          "data": {
            "text/plain": [
              "[('Friedrich', 'NNP'),\n",
              " ('Wilhelm', 'NNP'),\n",
              " ('Nietzsche', 'NNP'),\n",
              " ('was', 'VBD'),\n",
              " ('a', 'DT'),\n",
              " ('German', 'JJ'),\n",
              " ('philosopher', 'NN'),\n",
              " (',', ','),\n",
              " ('cultural', 'JJ'),\n",
              " ('critic', 'NN'),\n",
              " (',', ','),\n",
              " ('composer', 'NN'),\n",
              " (',', ','),\n",
              " ('poet', 'NN'),\n",
              " (',', ','),\n",
              " ('philologist', 'NN'),\n",
              " (',', ','),\n",
              " ('and', 'CC'),\n",
              " ('a', 'DT'),\n",
              " ('Latin', 'NNP'),\n",
              " ('and', 'CC'),\n",
              " ('Greek', 'NNP'),\n",
              " ('scholar', 'NN'),\n",
              " ('whose', 'WP$'),\n",
              " ('work', 'NN'),\n",
              " ('has', 'VBZ'),\n",
              " ('exerted', 'VBN'),\n",
              " ('a', 'DT'),\n",
              " ('profound', 'JJ'),\n",
              " ('influence', 'NN'),\n",
              " ('on', 'IN'),\n",
              " ('Western', 'JJ'),\n",
              " ('philosophy', 'NN'),\n",
              " ('and', 'CC'),\n",
              " ('modern', 'JJ'),\n",
              " ('intellectual', 'JJ'),\n",
              " ('history', 'NN'),\n",
              " ('.', '.'),\n",
              " ('He', 'PRP'),\n",
              " ('began', 'VBD'),\n",
              " ('his', 'PRP$'),\n",
              " ('career', 'NN'),\n",
              " ('as', 'IN'),\n",
              " ('a', 'DT'),\n",
              " ('classical', 'JJ'),\n",
              " ('philologist', 'NN'),\n",
              " ('before', 'IN'),\n",
              " ('turning', 'VBG'),\n",
              " ('to', 'TO'),\n",
              " ('philosophy', 'NN'),\n",
              " ('.', '.'),\n",
              " ('He', 'PRP'),\n",
              " ('became', 'VBD'),\n",
              " ('the', 'DT'),\n",
              " ('youngest', 'JJS'),\n",
              " ('ever', 'RB'),\n",
              " ('to', 'TO'),\n",
              " ('hold', 'VB'),\n",
              " ('the', 'DT'),\n",
              " ('Chair', 'NNP'),\n",
              " ('of', 'IN'),\n",
              " ('Classical', 'NNP'),\n",
              " ('Philology', 'NNP'),\n",
              " ('at', 'IN'),\n",
              " ('the', 'DT'),\n",
              " ('University', 'NNP'),\n",
              " ('of', 'IN'),\n",
              " ('Basel', 'NNP'),\n",
              " ('in', 'IN'),\n",
              " ('1869', 'CD'),\n",
              " ('at', 'IN'),\n",
              " ('the', 'DT'),\n",
              " ('age', 'NN'),\n",
              " ('of', 'IN'),\n",
              " ('24', 'CD'),\n",
              " ('.', '.'),\n",
              " ('Nietzsche', 'NN'),\n",
              " ('resigned', 'VBD'),\n",
              " ('in', 'IN'),\n",
              " ('1879', 'CD'),\n",
              " ('due', 'JJ'),\n",
              " ('to', 'TO'),\n",
              " ('health', 'NN'),\n",
              " ('problems', 'NNS'),\n",
              " ('that', 'WDT'),\n",
              " ('plagued', 'VBD'),\n",
              " ('him', 'PRP'),\n",
              " ('most', 'JJS'),\n",
              " ('of', 'IN'),\n",
              " ('his', 'PRP$'),\n",
              " ('life', 'NN'),\n",
              " (';', ':'),\n",
              " ('he', 'PRP'),\n",
              " ('completed', 'VBD'),\n",
              " ('much', 'JJ'),\n",
              " ('of', 'IN'),\n",
              " ('his', 'PRP$'),\n",
              " ('core', 'NN'),\n",
              " ('writing', 'NN'),\n",
              " ('in', 'IN'),\n",
              " ('the', 'DT'),\n",
              " ('following', 'JJ'),\n",
              " ('decade', 'NN'),\n",
              " ('.', '.'),\n",
              " ('In', 'IN'),\n",
              " ('1889', 'CD'),\n",
              " ('at', 'IN'),\n",
              " ('age', 'NN'),\n",
              " ('44', 'CD'),\n",
              " (',', ','),\n",
              " ('he', 'PRP'),\n",
              " ('suffered', 'VBD'),\n",
              " ('a', 'DT'),\n",
              " ('collapse', 'NN'),\n",
              " ('and', 'CC'),\n",
              " ('afterward', 'RB'),\n",
              " (',', ','),\n",
              " ('a', 'DT'),\n",
              " ('complete', 'JJ'),\n",
              " ('loss', 'NN'),\n",
              " ('of', 'IN'),\n",
              " ('his', 'PRP$'),\n",
              " ('mental', 'JJ'),\n",
              " ('faculties', 'NNS'),\n",
              " ('.', '.'),\n",
              " ('He', 'PRP'),\n",
              " ('lived', 'VBD'),\n",
              " ('his', 'PRP$'),\n",
              " ('remaining', 'VBG'),\n",
              " ('years', 'NNS'),\n",
              " ('in', 'IN'),\n",
              " ('the', 'DT'),\n",
              " ('care', 'NN'),\n",
              " ('of', 'IN'),\n",
              " ('his', 'PRP$'),\n",
              " ('mother', 'NN'),\n",
              " ('until', 'IN'),\n",
              " ('her', 'PRP$'),\n",
              " ('death', 'NN'),\n",
              " ('in', 'IN'),\n",
              " ('1897', 'CD'),\n",
              " ('and', 'CC'),\n",
              " ('then', 'RB'),\n",
              " ('with', 'IN'),\n",
              " ('his', 'PRP$'),\n",
              " ('sister', 'NN'),\n",
              " ('Elisabeth', 'NNP'),\n",
              " ('Förster-Nietzsche', 'NNP'),\n",
              " ('.', '.'),\n",
              " ('Nietzsche', 'NNP'),\n",
              " ('died', 'VBD'),\n",
              " ('in', 'IN'),\n",
              " ('1900', 'CD'),\n",
              " ('.', '.')]"
            ]
          },
          "metadata": {},
          "execution_count": 6
        }
      ]
    },
    {
      "cell_type": "code",
      "source": [
        "##NAMED ENTITY RECOGNITION\n",
        "import nltk\n",
        "nltk.download('maxent_ne_chunker_tab')\n",
        "nltk.download('words')\n",
        "\n",
        "text = \"Steve Jobs was an American entrepreneur and business magnate. He was the chairman, chief executive officer (CEO), and a co-founder of Apple Inc., chairman and majority shareholder of Pixar, a member of The Walt Disney Company's board of directors following its acquisition of Pixar, and the founder, chairman, and CEO of NeXT. Jobs is widely recognized as a pioneer of the microcomputer revolution of the 1970s and 1980s, along with Apple co-founder Steve Wozniak. \"\n",
        "tokenized = nltk.word_tokenize(text)\n",
        "tagged = nltk.pos_tag(tokenized)\n",
        "\n",
        "named_ent = nltk.ne_chunk(tagged)\n",
        "print(named_ent)\n",
        "#named_ent.draw() colab de çalışmadı"
      ],
      "metadata": {
        "colab": {
          "base_uri": "https://localhost:8080/"
        },
        "id": "h2G0KDxL31YV",
        "outputId": "1724dec9-380f-44a4-f3c0-0aa3bf83f167"
      },
      "execution_count": 12,
      "outputs": [
        {
          "output_type": "stream",
          "name": "stderr",
          "text": [
            "[nltk_data] Downloading package maxent_ne_chunker_tab to\n",
            "[nltk_data]     /root/nltk_data...\n",
            "[nltk_data]   Package maxent_ne_chunker_tab is already up-to-date!\n",
            "[nltk_data] Downloading package words to /root/nltk_data...\n",
            "[nltk_data]   Package words is already up-to-date!\n"
          ]
        },
        {
          "output_type": "stream",
          "name": "stdout",
          "text": [
            "(S\n",
            "  (PERSON Steve/NNP)\n",
            "  (PERSON Jobs/NNP)\n",
            "  was/VBD\n",
            "  an/DT\n",
            "  (GPE American/JJ)\n",
            "  entrepreneur/NN\n",
            "  and/CC\n",
            "  business/NN\n",
            "  magnate/NN\n",
            "  ./.\n",
            "  He/PRP\n",
            "  was/VBD\n",
            "  the/DT\n",
            "  chairman/NN\n",
            "  ,/,\n",
            "  chief/JJ\n",
            "  executive/NN\n",
            "  officer/NN\n",
            "  (/(\n",
            "  (ORGANIZATION CEO/NNP)\n",
            "  )/)\n",
            "  ,/,\n",
            "  and/CC\n",
            "  a/DT\n",
            "  co-founder/NN\n",
            "  of/IN\n",
            "  (ORGANIZATION Apple/NNP Inc./NNP)\n",
            "  ,/,\n",
            "  chairman/NN\n",
            "  and/CC\n",
            "  majority/NN\n",
            "  shareholder/NN\n",
            "  of/IN\n",
            "  (GPE Pixar/NNP)\n",
            "  ,/,\n",
            "  a/DT\n",
            "  member/NN\n",
            "  of/IN\n",
            "  The/DT\n",
            "  (ORGANIZATION Walt/NNP Disney/NNP Company/NNP)\n",
            "  's/POS\n",
            "  board/NN\n",
            "  of/IN\n",
            "  directors/NNS\n",
            "  following/VBG\n",
            "  its/PRP$\n",
            "  acquisition/NN\n",
            "  of/IN\n",
            "  (GPE Pixar/NNP)\n",
            "  ,/,\n",
            "  and/CC\n",
            "  the/DT\n",
            "  founder/NN\n",
            "  ,/,\n",
            "  chairman/NN\n",
            "  ,/,\n",
            "  and/CC\n",
            "  (ORGANIZATION CEO/NNP)\n",
            "  of/IN\n",
            "  (ORGANIZATION NeXT/NNP)\n",
            "  ./.\n",
            "  (PERSON Jobs/NNP)\n",
            "  is/VBZ\n",
            "  widely/RB\n",
            "  recognized/VBN\n",
            "  as/IN\n",
            "  a/DT\n",
            "  pioneer/NN\n",
            "  of/IN\n",
            "  the/DT\n",
            "  microcomputer/NN\n",
            "  revolution/NN\n",
            "  of/IN\n",
            "  the/DT\n",
            "  1970s/CD\n",
            "  and/CC\n",
            "  1980s/CD\n",
            "  ,/,\n",
            "  along/IN\n",
            "  with/IN\n",
            "  (PERSON Apple/NNP)\n",
            "  co-founder/NN\n",
            "  (PERSON Steve/NNP Wozniak/NNP)\n",
            "  ./.)\n"
          ]
        }
      ]
    },
    {
      "cell_type": "code",
      "source": [
        "##LEMMATIZING (GELİŞMİŞ KÖK BULMA)\n",
        "import nltk\n",
        "nltk.download('wordnet')\n",
        "from nltk.stem import WordNetLemmatizer\n",
        "words = ['drive', 'driving', 'driver', 'drives', 'drove', 'cats', 'children']\n",
        "lemmatizer = WordNetLemmatizer()\n",
        "\n",
        "for word in words:\n",
        "  print(lemmatizer.lemmatize(word))\n"
      ],
      "metadata": {
        "colab": {
          "base_uri": "https://localhost:8080/"
        },
        "id": "IF3Tqo9T9k1y",
        "outputId": "758bb5a8-8be9-4412-a90c-a57462bc7bbd"
      },
      "execution_count": 19,
      "outputs": [
        {
          "output_type": "stream",
          "name": "stdout",
          "text": [
            "drive\n",
            "driving\n",
            "driver\n",
            "drive\n",
            "drove\n",
            "cat\n",
            "child\n",
            "driving\n"
          ]
        },
        {
          "output_type": "stream",
          "name": "stderr",
          "text": [
            "[nltk_data] Downloading package wordnet to /root/nltk_data...\n",
            "[nltk_data]   Package wordnet is already up-to-date!\n"
          ]
        }
      ]
    },
    {
      "cell_type": "code",
      "source": [
        "print(lemmatizer.lemmatize(\"driving\"))# driving i verb olarak belirtmeden atarsak isim olarak kökünü gösterir\n",
        "print(lemmatizer.lemmatize(\"driving\", \"v\"))# verb olarak belirtirsek fiil olarak kökünü bulur"
      ],
      "metadata": {
        "colab": {
          "base_uri": "https://localhost:8080/"
        },
        "id": "CeAKGDxP_UF8",
        "outputId": "cf953907-59b4-4486-a2c4-a51062b37163"
      },
      "execution_count": 21,
      "outputs": [
        {
          "output_type": "stream",
          "name": "stdout",
          "text": [
            "driving\n",
            "drive\n"
          ]
        }
      ]
    }
  ]
}