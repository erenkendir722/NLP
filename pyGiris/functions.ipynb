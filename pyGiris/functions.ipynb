{
  "nbformat": 4,
  "nbformat_minor": 0,
  "metadata": {
    "colab": {
      "provenance": []
    },
    "kernelspec": {
      "name": "python3",
      "display_name": "Python 3"
    },
    "language_info": {
      "name": "python"
    }
  },
  "cells": [
    {
      "cell_type": "markdown",
      "source": [
        "Fonksiyonlar, belirli bir işlemi yerine getiren, adı verilen, bir veya birden fazla parametre alıp bir değer döndüren kod bloklarıdır."
      ],
      "metadata": {
        "id": "Fl60DLnvZX31"
      }
    },
    {
      "cell_type": "code",
      "execution_count": null,
      "metadata": {
        "colab": {
          "base_uri": "https://localhost:8080/"
        },
        "id": "9bpCKgIxZQwK",
        "outputId": "b6bfac8b-10c1-4e20-d3fd-b1e5cfe43b88"
      },
      "outputs": [
        {
          "output_type": "stream",
          "name": "stdout",
          "text": [
            "Merhaba, Ahmet! 😊\n",
            "Merhaba, Zeynep! 😊\n"
          ]
        }
      ],
      "source": [
        "#fonksiyon oluştururken \"def\" anahtar kelimesi kullanılır\n",
        "def selam_ver(isim):\n",
        "    \"\"\"Verilen isme göre selam veren basit bir fonksiyon\"\"\"\n",
        "    print(f\"Merhaba, {isim}! 😊\")\n",
        "\n",
        "# Fonksiyonu çağırma\n",
        "selam_ver(\"Ahmet\")\n",
        "selam_ver(\"Zeynep\")\n"
      ]
    },
    {
      "cell_type": "code",
      "source": [
        "def bol(x, y):\n",
        "\n",
        "    #Bu fonksiyon, iki sayıyı böler ve hem bölüm hem de kalanı döndürür.\n",
        "\n",
        "    #Parametreler:\n",
        "    #x (int, float): Pay\n",
        "    #y (int, float): Payda\n",
        "\n",
        "    #Döndürür:\n",
        "    #tuple: bölüm ve kalan\n",
        "\n",
        "    return x // y, x % y\n",
        "\n",
        "bolum, kalan = bol(10, 3)\n",
        "print(f\"Bölüm: {bolum}, Kalan: {kalan}\")\n",
        "\n",
        "#\"return\" anahtar kelimesi fonksiyonu sonlandırır ve geri dönecek değeri belirler.\n"
      ],
      "metadata": {
        "colab": {
          "base_uri": "https://localhost:8080/"
        },
        "id": "s7hHSqeBd00i",
        "outputId": "cc002d39-2f70-4bd0-9233-5340ef1fbcbb"
      },
      "execution_count": null,
      "outputs": [
        {
          "output_type": "stream",
          "name": "stdout",
          "text": [
            "Bölüm: 3, Kalan: 1\n"
          ]
        }
      ]
    },
    {
      "cell_type": "code",
      "source": [
        "#Lambda fonksiyonu ile iki sayıyı toplayan bir fonksiyon tanımlanır.\n",
        "topla_lambda = lambda x, y: x + y\n",
        "\n",
        "print(topla_lambda(2, 3)) #5"
      ],
      "metadata": {
        "colab": {
          "base_uri": "https://localhost:8080/"
        },
        "id": "7u2s3V8UegOS",
        "outputId": "e8998903-3e51-4bc8-86a1-9dbdbbd0e4cb"
      },
      "execution_count": null,
      "outputs": [
        {
          "output_type": "stream",
          "name": "stdout",
          "text": [
            "5\n"
          ]
        }
      ]
    },
    {
      "cell_type": "code",
      "source": [
        "#Pythonda bazı fonksiyonlar yüklü olarak(built-in) gelir.\n",
        "#örnek olarak\n",
        "liste = [3, 5, 7, 2, 8]\n",
        "\n",
        "print(len(liste))   # Çıktı: 5 (Listenin uzunluğu)\n",
        "print(sum(liste))   # Çıktı: 25 (Tüm elemanların toplamı)\n",
        "print(min(liste))   # Çıktı: 2 (En küçük değer)\n",
        "print(max(liste))   # Çıktı: 8 (En büyük değer)\n",
        "print(abs(-10))"
      ],
      "metadata": {
        "colab": {
          "base_uri": "https://localhost:8080/"
        },
        "id": "uptERxyUeqeI",
        "outputId": "0c738a9b-865d-4d04-bebc-e36309656bc8"
      },
      "execution_count": null,
      "outputs": [
        {
          "output_type": "stream",
          "name": "stdout",
          "text": [
            "5\n",
            "25\n",
            "2\n",
            "8\n",
            "10\n"
          ]
        }
      ]
    }
  ]
}