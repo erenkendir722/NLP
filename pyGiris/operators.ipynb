{
  "nbformat": 4,
  "nbformat_minor": 0,
  "metadata": {
    "colab": {
      "provenance": []
    },
    "kernelspec": {
      "name": "python3",
      "display_name": "Python 3"
    },
    "language_info": {
      "name": "python"
    }
  },
  "cells": [
    {
      "cell_type": "markdown",
      "source": [
        "Bu bölümde python operatörlerini çalışacağım."
      ],
      "metadata": {
        "id": "r9VfKs3hMiwN"
      }
    },
    {
      "cell_type": "code",
      "execution_count": null,
      "metadata": {
        "colab": {
          "base_uri": "https://localhost:8080/"
        },
        "id": "UY47f8oaL_l8",
        "outputId": "656487e2-1cb5-4ad7-998e-289fef5f7c9f"
      },
      "outputs": [
        {
          "output_type": "stream",
          "name": "stdout",
          "text": [
            "Toplama: 10 + 3 = 13\n",
            "Çıkarma: 10 - 3 = 7\n",
            "Çarpma: 10 * 3 = 30\n",
            "Bölme: 10 / 3 = 3.3333333333333335\n",
            "Tam Bölme: 10 // 3 = 3\n",
            "Eşit mi: 5 == 10 = False\n",
            "Eşit değil mi: 5 != 10 = True\n",
            "Büyük mü: 5 > 10 = False\n",
            "Küçük mü: 5 < 10 = True\n",
            "Büyük veya eşit mi: 5 >= 10 = False\n",
            "AND operatörü: True and False = False\n",
            "OR operatörü: True or False = True\n",
            "NOT operatörü: not True = False\n",
            "Başlangıç değeri: 10\n",
            "+= Operatörü: 15\n",
            "-= Operatörü: 12\n",
            "*= Operatörü: 24\n",
            "/= Operatörü: 6.0\n",
            "%= Operatörü: 0.0\n",
            "**= Operatörü: 0.0\n",
            "x is y: False\n",
            "x is z: True\n",
            "'elma' listede var mı: True\n",
            "'muz' listede var mı: False\n"
          ]
        }
      ],
      "source": [
        "#Aritmetik operatörler, matematiksel işlemler yapmak için kullanılır.\n",
        "a = 10\n",
        "b = 3\n",
        "\n",
        "print(f\"Toplama: {a} + {b} = {a + b}\")  # Toplama işlemi\n",
        "print(f\"Çıkarma: {a} - {b} = {a - b}\")  # Çıkarma işlemi\n",
        "print(f\"Çarpma: {a} * {b} = {a * b}\")  # Çarpma işlemi\n",
        "print(f\"Bölme: {a} / {b} = {a / b}\")  # Bölme işlemi (sonuç float)\n",
        "print(f\"Tam Bölme: {a} // {b} = {a // b}\")  # Tam bölme işlemi (sonuç tam sayı)\n",
        "\n",
        "\n",
        "#Karşılaştırma operatörleri iki değeri karşılaştırmak için kullanılır. True veya False döndürür.\n",
        "x = 5\n",
        "y = 10\n",
        "\n",
        "print(f\"Eşit mi: {x} == {y} = {x == y}\")  # Eşit mi?\n",
        "print(f\"Eşit değil mi: {x} != {y} = {x != y}\")  # Eşit değil mi?\n",
        "print(f\"Büyük mü: {x} > {y} = {x > y}\")  # Büyük mü?\n",
        "print(f\"Küçük mü: {x} < {y} = {x < y}\")  # Küçük mü?\n",
        "print(f\"Büyük veya eşit mi: {x} >= {y} = {x >= y}\")  # Büyük veya eşit mi?\n",
        "\n",
        "\n",
        "#Mantıksal operatörler, boolean ifadeleri birleştirmek veya tersine çevirmek için kullanılır.\n",
        "a = True\n",
        "b = False\n",
        "\n",
        "print(f\"AND operatörü: {a} and {b} = {a and b}\")  # Her iki ifade True ise sonuç True\n",
        "print(f\"OR operatörü: {a} or {b} = {a or b}\")  # En az bir ifade True ise sonuç True\n",
        "print(f\"NOT operatörü: not {a} = {not a}\")  # İfadenin tersini alır\n",
        "\n",
        "\n",
        "#Atama Operatörleri, değişkenlere değer atamak veya mevcut değeri değiştirmek için kullanılır.\n",
        "z = 10\n",
        "print(f\"Başlangıç değeri: {z}\")\n",
        "\n",
        "z += 5  # z nin değerine 5 ekler tekrar z ye atar\n",
        "print(f\"+= Operatörü: {z}\")\n",
        "\n",
        "z -= 3  # z nin değerinden 3 çıkarır ve tekrar z ye atar\n",
        "print(f\"-= Operatörü: {z}\")\n",
        "\n",
        "z *= 2  # z = z * 2\n",
        "print(f\"*= Operatörü: {z}\")\n",
        "\n",
        "z /= 4  # z = z / 4\n",
        "print(f\"/= Operatörü: {z}\")\n",
        "\n",
        "z %= 3  # z = z % 3\n",
        "print(f\"%= Operatörü: {z}\")\n",
        "\n",
        "z **= 2  # z = z ** 2\n",
        "print(f\"**= Operatörü: {z}\")\n",
        "\n",
        "\n",
        "#\"in\" ve \"is\" operatörleri\n",
        "\n",
        "# \"is\" operatörü iki değişkenin aynı nesneyi işaret edip etmediğini kontrol eder\n",
        "x = [1, 2, 3]\n",
        "y = [1, 2, 3]\n",
        "z = x\n",
        "\n",
        "print(f\"x is y: {x is y}\")  # False, çünkü farklı nesneler\n",
        "print(f\"x is z: {x is z}\")  # True, çünkü aynı nesneyi işaret ediyorlar\n",
        "\n",
        "\n",
        "#\"in\" bir elemanın, bir koleksiyonda bulunup bulunmadığını kontrol eder\n",
        "liste = [\"elma\", \"armut\", \"kiraz\"]\n",
        "\n",
        "print(f\"'elma' listede var mı: {'elma' in liste}\")\n",
        "print(f\"'muz' listede var mı: {'muz' in liste}\")"
      ]
    }
  ]
}