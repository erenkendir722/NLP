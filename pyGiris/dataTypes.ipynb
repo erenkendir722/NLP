{
  "nbformat": 4,
  "nbformat_minor": 0,
  "metadata": {
    "colab": {
      "provenance": []
    },
    "kernelspec": {
      "name": "python3",
      "display_name": "Python 3"
    },
    "language_info": {
      "name": "python"
    }
  },
  "cells": [
    {
      "cell_type": "markdown",
      "source": [
        "İlk olarak pythondaki basit veri yapılarını çalışacağım."
      ],
      "metadata": {
        "id": "zxXK0Ymu9X4E"
      }
    },
    {
      "cell_type": "code",
      "execution_count": null,
      "metadata": {
        "colab": {
          "base_uri": "https://localhost:8080/"
        },
        "id": "NUPX1IWT9SIv",
        "outputId": "3ea64ca2-403b-4407-f2b4-288ab1307e9b"
      },
      "outputs": [
        {
          "output_type": "stream",
          "name": "stdout",
          "text": [
            "<class 'int'>\n"
          ]
        }
      ],
      "source": [
        "#integer yapısı\n",
        "sayi = 4\n",
        "print(type(sayi))\n",
        "\n",
        "#string yapısı\n",
        "cumle=\"cumle\"\n",
        "print(type(cumle))\n",
        "\n",
        "#virgüllü float yapısı\n",
        "sFloat= 3.14\n",
        "print(type(sFloat))\n",
        "\n",
        "#True False yapısı\n",
        "sBoolean = True\n",
        "print(type(sBoolean))"
      ]
    },
    {
      "cell_type": "code",
      "source": [
        "#dönüşümler\n",
        "\n",
        "sayi1= \"4\"\n",
        "\n",
        "print(type(sayi1))\n",
        "\n",
        "sayi1 = int(sayi1)\n",
        "\n",
        "print(type(sayi1))"
      ],
      "metadata": {
        "colab": {
          "base_uri": "https://localhost:8080/"
        },
        "id": "Ud9Gb2nWCvmV",
        "outputId": "949d0374-874f-4364-b5ec-0e797848537a"
      },
      "execution_count": null,
      "outputs": [
        {
          "output_type": "stream",
          "name": "stdout",
          "text": [
            "<class 'str'>\n",
            "<class 'int'>\n"
          ]
        }
      ]
    },
    {
      "cell_type": "code",
      "source": [
        "#Değişken Tanımlama\n",
        "\n",
        "isim= \"Eren\"\n",
        "age = 21\n",
        "nationality = \"Turkish\"\n",
        "height = 1.78\n",
        "\n",
        "print(isim)\n",
        "print(age)\n",
        "print(nationality)"
      ],
      "metadata": {
        "id": "XCM2DhMmDF3W"
      },
      "execution_count": null,
      "outputs": []
    }
  ]
}