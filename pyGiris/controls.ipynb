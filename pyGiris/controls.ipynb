{
  "nbformat": 4,
  "nbformat_minor": 0,
  "metadata": {
    "colab": {
      "provenance": []
    },
    "kernelspec": {
      "name": "python3",
      "display_name": "Python 3"
    },
    "language_info": {
      "name": "python"
    }
  },
  "cells": [
    {
      "cell_type": "markdown",
      "source": [
        "Bu dosyada \"if\" \"else\" ve döngüleri(while, for) çalışacağım"
      ],
      "metadata": {
        "id": "Gm8EUeFc0cRM"
      }
    },
    {
      "cell_type": "code",
      "execution_count": null,
      "metadata": {
        "id": "I2taht5vheeH"
      },
      "outputs": [],
      "source": [
        "sayi = 10\n",
        "\n",
        "if sayi>0:\n",
        "  print(\"Sayı pozitif\")\n",
        "elif sayi == 0:\n",
        "  print(\"Sayı sıfır\")\n",
        "else:\n",
        "  print(\"Sayı negatif\")\n",
        "\n"
      ]
    },
    {
      "cell_type": "code",
      "source": [
        "#nested if else\n",
        "\n",
        "sayi = 10\n",
        "\n",
        "if sayi>0:\n",
        "  print(\"Sayı pozitif\")\n",
        "  if sayi%2 == 0:\n",
        "    print(\"Sayı çift\")\n",
        "  else:\n",
        "    print(\"Sayı tek\")\n",
        "\n"
      ],
      "metadata": {
        "id": "ApUH6dKV03Hg"
      },
      "execution_count": null,
      "outputs": []
    },
    {
      "cell_type": "code",
      "source": [
        "#For döngüsü belirli bir iterable (liste, dizi, string vb.) üzerinde yineleme yapmamızı sağlar.\n",
        "\n",
        "list1 = [1, 2, 3, 4, 5]\n",
        "for sayi in list1:\n",
        "    print(sayi) #tüm sayıları alt alta yazdırır\n",
        "\n",
        "#range fonksiyonu için girilen iki değerden ilki başlangıç değeri, ikinci değer ise gidilecek son değeri belirtir.\n",
        "for i in range(1,4):\n",
        "  print(i) #4 dahil değildir. 3 e kadar olan sayılar yazdırılır.\n"
      ],
      "metadata": {
        "colab": {
          "base_uri": "https://localhost:8080/"
        },
        "id": "8om0tiRw1PVU",
        "outputId": "087b7fa6-dc72-418f-dce1-b78a94472c69"
      },
      "execution_count": null,
      "outputs": [
        {
          "output_type": "stream",
          "name": "stdout",
          "text": [
            "1\n",
            "2\n",
            "3\n",
            "4\n",
            "5\n",
            "1\n",
            "2\n",
            "3\n"
          ]
        }
      ]
    },
    {
      "cell_type": "code",
      "source": [
        "#While döngüsü, girilen koşul sağlandığı sürece belirtilen işlemi tekrarlar.\n",
        "a = 0\n",
        "while a < 5:\n",
        "    print(a)  # 0, 1, 2, 3, 4\n",
        "    a += 1 #a 5 ten küçük olduğu sürece döngü devam eder.\n",
        "\n",
        "\n",
        "#koşul doğru değilse döngüye hiç girmez."
      ],
      "metadata": {
        "colab": {
          "base_uri": "https://localhost:8080/"
        },
        "id": "U9LddEJs2KAD",
        "outputId": "bce5ffae-c748-4c3e-ac6c-aa3fd30e3d63"
      },
      "execution_count": null,
      "outputs": [
        {
          "output_type": "stream",
          "name": "stdout",
          "text": [
            "0\n",
            "1\n",
            "2\n",
            "3\n",
            "4\n"
          ]
        }
      ]
    },
    {
      "cell_type": "code",
      "source": [
        "#break fonksiyonu\n",
        "\n",
        "for i in range(1, 10):\n",
        "    if i == 5:\n",
        "        break  # i 5 olduğunda döngü sonlanacak\n",
        "    print(i) #1,2,3,4\n",
        "\n",
        "#continue fonksiyonu\n",
        "for i in range(1, 6):\n",
        "    if i == 3:\n",
        "        continue  # i 3 olduğunda bu iterasyon atlanır\n",
        "    print(i)\n",
        "\n",
        "#pass fonksiyonu\n",
        "for i in range(1, 6):\n",
        "    if i == 3:\n",
        "        pass  # i 3 olduğunda bu iterasyonda hiçbir işlem yapılmaz, geçilir.\n",
        "    print(i)\n",
        "\n",
        "\n",
        "\n"
      ],
      "metadata": {
        "id": "Ta1j1dwJ3pgZ"
      },
      "execution_count": null,
      "outputs": []
    }
  ]
}