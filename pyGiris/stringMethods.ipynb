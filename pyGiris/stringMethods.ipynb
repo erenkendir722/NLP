{
  "nbformat": 4,
  "nbformat_minor": 0,
  "metadata": {
    "colab": {
      "provenance": []
    },
    "kernelspec": {
      "name": "python3",
      "display_name": "Python 3"
    },
    "language_info": {
      "name": "python"
    }
  },
  "cells": [
    {
      "cell_type": "markdown",
      "source": [
        "Bu bölümde stringler üzerinde kullanılan metodları çalışacağım."
      ],
      "metadata": {
        "id": "RlEpYeyZO2yJ"
      }
    },
    {
      "cell_type": "code",
      "execution_count": null,
      "metadata": {
        "id": "1lGwDGAfOtnP"
      },
      "outputs": [],
      "source": [
        "#upper() ve lower()\n",
        "#upper()` metodu, bir stringi tamamen büyük harflere çevirir.\n",
        "#lower()` metodu ise tamamen küçük harflere çevirir.\n",
        "\n",
        "str1 = \"Hello World!\"\n",
        "\n",
        "print(str1.upper())  # \"HELLO WORLD!\"\n",
        "print(str1.lower())  # \"hello world\"\n",
        "\n"
      ]
    },
    {
      "cell_type": "code",
      "source": [
        "#strip() metodu boşlukları temizler\n",
        "str1 = \"   Python   \"\n",
        "\n",
        "str1.strip()\n",
        "print(str1)"
      ],
      "metadata": {
        "colab": {
          "base_uri": "https://localhost:8080/"
        },
        "id": "h_f7LVlRPenJ",
        "outputId": "a7567bcf-cdd9-48b9-d904-5ef154e17f69"
      },
      "execution_count": null,
      "outputs": [
        {
          "output_type": "stream",
          "name": "stdout",
          "text": [
            "   Python   \n"
          ]
        }
      ]
    },
    {
      "cell_type": "code",
      "source": [
        "#replace metodu belli bir string bölümünü başka bir string ile değiştirir.\n",
        "str1 = \"Merhaba Python\"\n",
        "\n",
        "print(str1.replace(\"Python\", \"Dünya\"))"
      ],
      "metadata": {
        "colab": {
          "base_uri": "https://localhost:8080/"
        },
        "id": "h7E4TMFCP0j4",
        "outputId": "718cc917-05e8-4bdb-e557-a3821d4f8f6f"
      },
      "execution_count": null,
      "outputs": [
        {
          "output_type": "stream",
          "name": "stdout",
          "text": [
            "Merhaba Dünya\n"
          ]
        }
      ]
    },
    {
      "cell_type": "code",
      "source": [
        "#split() ve join() metodları\n",
        "#split metodu belirlenen bir ayırtaca göre böler\n",
        "#join() metodu bir listeyi birleştirerek string oluşturur\n",
        "\n",
        "str1 = \"Merhaba Dünya Python\"\n",
        "\n",
        "print(str1.split(\" \")) #['Merhaba', 'Dünya', 'Python']\n",
        "\n",
        "kelimeler = [\"Merhaba\", \"Dünya\", \"Python\"]\n",
        "sonuc = \" \".join(kelimeler)\n",
        "print(sonuc) #Merhaba Dünya Python\n"
      ],
      "metadata": {
        "colab": {
          "base_uri": "https://localhost:8080/"
        },
        "id": "xgslbveYQnri",
        "outputId": "ca678619-3473-42b7-b769-b97bd4e27400"
      },
      "execution_count": null,
      "outputs": [
        {
          "output_type": "stream",
          "name": "stdout",
          "text": [
            "['Merhaba', 'Dünya', 'Python']\n",
            "Merhaba Dünya Python\n"
          ]
        }
      ]
    },
    {
      "cell_type": "code",
      "source": [
        "#find() ve index() metodları\n",
        "#find metodu aranan kelimenin ilk harfinin indexini verir yoksa -1 döndürür\n",
        "#index methodu başlangıç indexini verir fakat yoksa hata fırlatır\n",
        "\n",
        "str2= \"Java Programlama\"\n",
        "str2.find(\"Programlama\") #5\n",
        "str2.index(\"Programlama\") #5\n",
        "str2.find(\"Python\") #-1\n",
        "#str2.index(\"Python\") #ValueError: substring not found\n"
      ],
      "metadata": {
        "colab": {
          "base_uri": "https://localhost:8080/"
        },
        "id": "S_uOLbeeSTv6",
        "outputId": "1e41086a-4a2c-459d-e92b-94188e2d0734"
      },
      "execution_count": null,
      "outputs": [
        {
          "output_type": "execute_result",
          "data": {
            "text/plain": [
              "-1"
            ]
          },
          "metadata": {},
          "execution_count": 8
        }
      ]
    },
    {
      "cell_type": "code",
      "source": [
        "#\"capitalize\" metodu stringin ilk harfini büyük yapar\n",
        "#\"title\" metodu her kelimenin baş harfini büyük yapar\n",
        "#swapcase metodu harfleri büyükse küçük, küçükse büyük yapar\n",
        "\n",
        "str1= \"merhaba dünya python\"\n",
        "print(str1.capitalize()) #Merhaba dünya python\n",
        "print(str1.title()) #Merhaba Dünya Python\n",
        "print(str1.swapcase()) #MERHABA DÜNYA PYTHON\n",
        "\n"
      ],
      "metadata": {
        "colab": {
          "base_uri": "https://localhost:8080/"
        },
        "id": "8REBDHoxWdfG",
        "outputId": "cf411150-de78-42c6-dbbe-8cd036225246"
      },
      "execution_count": null,
      "outputs": [
        {
          "output_type": "stream",
          "name": "stdout",
          "text": [
            "Merhaba dünya python\n",
            "Merhaba Dünya Python\n"
          ]
        }
      ]
    },
    {
      "cell_type": "code",
      "source": [
        "#isalpha(), isdigit(), isalnum() metodları yerine göre verilen değişken içinde sayı, harf veya özel karakter olup olmadığını kontrol eder.\n",
        "a= \"12\"\n",
        "print(a.isalpha()) #False\n",
        "print(a.isdigit()) #True\n",
        "print(a.isalnum()) #True\n",
        "\n",
        "b= \"merhaba\"\n",
        "print(b.isalpha()) #True\n",
        "print(b.isdigit()) #False\n",
        "print(b.isalnum()) #True"
      ],
      "metadata": {
        "colab": {
          "base_uri": "https://localhost:8080/"
        },
        "id": "nxO3tKEYX5Kb",
        "outputId": "4d2dd371-3904-45a8-f774-2890c986e040"
      },
      "execution_count": null,
      "outputs": [
        {
          "output_type": "stream",
          "name": "stdout",
          "text": [
            "False\n",
            "True\n",
            "True\n",
            "True\n",
            "False\n",
            "True\n"
          ]
        }
      ]
    }
  ]
}