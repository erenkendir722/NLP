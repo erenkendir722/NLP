{
  "nbformat": 4,
  "nbformat_minor": 0,
  "metadata": {
    "colab": {
      "provenance": []
    },
    "kernelspec": {
      "name": "python3",
      "display_name": "Python 3"
    },
    "language_info": {
      "name": "python"
    }
  },
  "cells": [
    {
      "cell_type": "markdown",
      "source": [
        "Bu bölümde liste metodlarını çalışacağım."
      ],
      "metadata": {
        "id": "iM4LNBluDp0r"
      }
    },
    {
      "cell_type": "code",
      "execution_count": null,
      "metadata": {
        "colab": {
          "base_uri": "https://localhost:8080/"
        },
        "id": "VUPO9_aCDe5b",
        "outputId": "55ac24f2-e6f0-4194-c0a4-1b8fd3f6c05b"
      },
      "outputs": [
        {
          "output_type": "stream",
          "name": "stdout",
          "text": [
            "5\n",
            "[1, 2, 3, 4, 5, 0]\n",
            "[1, 2, 3, 4, 5, 0, 6, 7]\n",
            "[1, 2, 3, 4, 'a', 5, 0, 6, 7]\n",
            "[1, 3, 4, 'a', 5, 0, 6, 7]\n",
            "[1, 3, 4, 'a', 5, 0, 6]\n",
            "[1, 4, 9, 16]\n"
          ]
        }
      ],
      "source": [
        "liste= [1,2,3,4,5]\n",
        "#Liste uzunluğu\n",
        "print(len(liste))\n",
        "\n",
        "#liste methodları\n",
        "liste.append(0)\n",
        "print(liste)\n",
        "\n",
        "#extend methodu\n",
        "liste.extend([6,7])\n",
        "print(liste)\n",
        "\n",
        "#insert methodu belirttiğimiz indexe istediğimiz değeri atar\n",
        "liste.insert(4,\"a\")\n",
        "print(liste)\n",
        "\n",
        "#remove komudu belirtilen indexi siler\n",
        "liste.remove(2)\n",
        "print(liste)\n",
        "\n",
        "#pop metodu listenin en sonundaki indexi siler\n",
        "liste.pop()\n",
        "print(liste)\n",
        "\n",
        "#map methodu belirtilen fonksiyonu liste içindeki değerlere uygular\n",
        "#bu örnekte karelerini alma fonksiyonu uygulanmıştır\n",
        "liste = [1, 2, 3, 4]\n",
        "kareler = map(lambda x: x ** 2, liste)\n",
        "print(list(kareler))\n",
        "\n"
      ]
    },
    {
      "cell_type": "markdown",
      "source": [
        "Bu bölümde tuple yapılarını çalışacağım.\n",
        "\n",
        "Tuple, değiştirilemez bir veri yapısıdır."
      ],
      "metadata": {
        "id": "GEK-IQ4zHFRR"
      }
    },
    {
      "cell_type": "code",
      "source": [
        "tuple1= (1, 2, 3, 2)\n",
        "print(tuple1.count(2))  #kaç adet index olduğunu sayar\n",
        "print(tuple1.index(2))  #belirtilen değerin kaçıncı indexte olduğunu söyler\n",
        "print(len(tuple1)) #tuple ın uzunluğunu gösterir"
      ],
      "metadata": {
        "colab": {
          "base_uri": "https://localhost:8080/"
        },
        "id": "P30terg_EZuZ",
        "outputId": "473366a2-307e-48f9-8131-fbb6d40b0d4f"
      },
      "execution_count": null,
      "outputs": [
        {
          "output_type": "stream",
          "name": "stdout",
          "text": [
            "2\n",
            "1\n"
          ]
        }
      ]
    },
    {
      "cell_type": "markdown",
      "source": [
        "Set, benzersiz elemanlar içerir."
      ],
      "metadata": {
        "id": "CerLj-biI94T"
      }
    },
    {
      "cell_type": "code",
      "source": [
        "set1 = {1, 2, 3}\n",
        "set1.add(4)\n",
        "print(set1)  # {1, 2, 3, 4}\n",
        "\n",
        "set1.remove(2)\n",
        "print(set1)  # {1, 3, 4}\n",
        "\n",
        "set1.discard(5)  # dicard remove ile aynı mantıktadır fakt 5 yoksa hata döndürmez\n",
        "print(set1)"
      ],
      "metadata": {
        "id": "pFbGpUJzJCWE"
      },
      "execution_count": null,
      "outputs": []
    },
    {
      "cell_type": "markdown",
      "source": [
        "Dictionary, key-value şeklinde değerler içerir ve istediğimiz zaman key üzerinden valuelarımıza ulaşabiliriz ve üzerinde işlem yapabiliriz."
      ],
      "metadata": {
        "id": "oHJz6S6iKhvu"
      }
    },
    {
      "cell_type": "code",
      "source": [
        "dict1= {\"a\": 1, \"b\": 2}\n",
        "print(dict1.keys())    # key değerlerini yan \"a\" ve \"b\" değerlerini verir\n",
        "print(dict1.values())  # value değerlerini verir 1 ve 2\n",
        "print(dict1.items())   # key-value eşlerini beraber gösterir"
      ],
      "metadata": {
        "colab": {
          "base_uri": "https://localhost:8080/"
        },
        "id": "5cXhBS6sKtti",
        "outputId": "0480f2d3-5ed0-46ce-d97e-122f75658f21"
      },
      "execution_count": null,
      "outputs": [
        {
          "output_type": "stream",
          "name": "stdout",
          "text": [
            "dict_keys(['a', 'b'])\n",
            "dict_values([1, 2])\n",
            "dict_items([('a', 1), ('b', 2)])\n"
          ]
        }
      ]
    }
  ]
}